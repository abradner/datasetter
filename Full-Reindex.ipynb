{
 "cells": [
  {
   "cell_type": "code",
   "execution_count": 2,
   "id": "3bb7a049-a9f5-4b1b-9eae-26951fd46e32",
   "metadata": {},
   "outputs": [
    {
     "name": "stdout",
     "output_type": "stream",
     "text": [
      "INFO 59956 4480146944 2021-07-06 16:11:39,289 snowflake.connector.arrow_result.func_name not provided:0 - Failed to import optional packages, pyarrow\n"
     ]
    }
   ],
   "source": [
    "import pandas as pd\n",
    "from app.runner import prepare_records\n",
    "from app.algolia_functions import configure_algolia_index, prepare_dataset_for_algolia\n",
    "from app.algolia_client import Client"
   ]
  },
  {
   "cell_type": "markdown",
   "id": "9a88df83-4098-4cf0-920f-025c98e7f404",
   "metadata": {},
   "source": [
    "## Prepare data\n",
    "Load records from snowflake (or file if cached), calculate Geohashes and Boundary coordinates"
   ]
  },
  {
   "cell_type": "code",
   "execution_count": 3,
   "id": "4b99342c-c73a-4edf-99e1-60de225f5f71",
   "metadata": {},
   "outputs": [
    {
     "name": "stdout",
     "output_type": "stream",
     "text": [
      "INFO 59956 4480146944 2021-07-06 16:11:39,316 root.prepare_records:50 - Processed Datafile already exists, loading file...\n"
     ]
    }
   ],
   "source": [
    "df = prepare_records()"
   ]
  },
  {
   "cell_type": "markdown",
   "id": "02645b61-5268-4e71-a777-9046b5edfcd9",
   "metadata": {},
   "source": [
    "## Constrain data\n",
    "Make sure we don't explode our algolia budget and cast some incompatable types"
   ]
  },
  {
   "cell_type": "code",
   "execution_count": 4,
   "id": "9edfb628-3417-4a22-8487-8491003e8c50",
   "metadata": {},
   "outputs": [],
   "source": [
    "data = prepare_dataset_for_algolia(df)"
   ]
  },
  {
   "cell_type": "markdown",
   "id": "da2e6594-526a-43f9-963c-8d10f680b620",
   "metadata": {},
   "source": [
    "## Build index\n",
    "Configure and load our dataset into our chosen index"
   ]
  },
  {
   "cell_type": "code",
   "execution_count": 5,
   "id": "da7dc8a4-ddf4-4cfc-a840-7a0edcec0974",
   "metadata": {},
   "outputs": [],
   "source": [
    "client = Client()"
   ]
  },
  {
   "cell_type": "code",
   "execution_count": 5,
   "id": "76daaf82-458d-4641-8d09-acc4c28e5d56",
   "metadata": {},
   "outputs": [],
   "source": [
    "configure_result = configure_algolia_index(client) # Set up fields we will be using for filtering. This only needs to happen once"
   ]
  },
  {
   "cell_type": "code",
   "execution_count": 12,
   "id": "71988d54-a16e-4fc5-a5aa-8ccb49be1479",
   "metadata": {},
   "outputs": [
    {
     "name": "stdout",
     "output_type": "stream",
     "text": [
      "Updated At: 2021-07-01T01:58:06.454Z, TaskID: 15556782001\n"
     ]
    }
   ],
   "source": [
    "print(f\"Updated At: {configure_result[0]['updatedAt']}, TaskID: {configure_result[0]['taskID']}\")"
   ]
  },
  {
   "cell_type": "code",
   "execution_count": 50,
   "id": "ab4b462e-f667-4a4d-b562-814584862dbe",
   "metadata": {},
   "outputs": [
    {
     "data": {
      "text/plain": [
       "15556382001"
      ]
     },
     "execution_count": 50,
     "metadata": {},
     "output_type": "execute_result"
    }
   ],
   "source": [
    "result = client.push(data) # This will erase and reload the dataset\n",
    "result[0]['taskID']"
   ]
  },
  {
   "cell_type": "markdown",
   "id": "ddf0bcd4-e420-46f5-ad17-2fd2333cc1fc",
   "metadata": {},
   "source": [
    "## Geohash analysis"
   ]
  },
  {
   "cell_type": "code",
   "execution_count": 6,
   "id": "521dbc7f-53a0-43de-aeeb-e8b29e4f47b8",
   "metadata": {},
   "outputs": [
    {
     "data": {
      "text/plain": [
       "<AxesSubplot:>"
      ]
     },
     "execution_count": 6,
     "metadata": {},
     "output_type": "execute_result"
    },
    {
     "data": {
      "image/png": "[encoded data removed]",
      "text/plain": [
       "<Figure size 864x648 with 1 Axes>"
      ]
     },
     "metadata": {
      "needs_background": "light"
     },
     "output_type": "display_data"
    }
   ],
   "source": [
    "from numpy import linspace\n",
    "df['geohash_count'] = df.geohashes.map(len)\n",
    "df['geohash_count'].quantile(linspace(0,1,10)).plot(figsize=(12, 9))"
   ]
  },
  {
   "cell_type": "code",
   "execution_count": null,
   "id": "2afca82d-6604-4f41-9d10-ebba68405a30",
   "metadata": {},
   "outputs": [],
   "source": []
  },
  {
   "cell_type": "markdown",
   "id": "71c70a5a-8cf8-44ce-8b4d-652aa8f25b55",
   "metadata": {},
   "source": [
    "Decile of the number of geohashes each listing contains"
   ]
  },
  {
   "cell_type": "code",
   "execution_count": null,
   "id": "cb7c86e9-b5c0-4eda-9c51-6e5cd3f21f8f",
   "metadata": {},
   "outputs": [],
   "source": []
  }
 ],
 "metadata": {
  "kernelspec": {
   "display_name": "datasetter",
   "language": "python",
   "name": "datasetter"
  },
  "language_info": {
   "codemirror_mode": {
    "name": "ipython",
    "version": 3
   },
   "file_extension": ".py",
   "mimetype": "text/x-python",
   "name": "python",
   "nbconvert_exporter": "python",
   "pygments_lexer": "ipython3",
   "version": "3.9.5"
  }
 },
 "nbformat": 4,
 "nbformat_minor": 5
}
