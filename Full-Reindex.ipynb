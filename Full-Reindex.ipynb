{
 "cells": [
  {
   "cell_type": "code",
   "execution_count": 1,
   "id": "3bb7a049-a9f5-4b1b-9eae-26951fd46e32",
   "metadata": {},
   "outputs": [],
   "source": [
    "import pandas as pd\n",
    "from app.runner import prepare_records, prepare_dataset_for_algolia\n",
    "from app.algolia_client import Client"
   ]
  },
  {
   "cell_type": "code",
   "execution_count": null,
   "id": "4b99342c-c73a-4edf-99e1-60de225f5f71",
   "metadata": {},
   "outputs": [],
   "source": [
    "df = prepare_records()"
   ]
  },
  {
   "cell_type": "code",
   "execution_count": null,
   "id": "a1b5808c-637b-440c-88fa-9c6430c8679b",
   "metadata": {},
   "outputs": [],
   "source": [
    "df"
   ]
  },
  {
   "cell_type": "code",
   "execution_count": 4,
   "id": "9edfb628-3417-4a22-8487-8491003e8c50",
   "metadata": {},
   "outputs": [],
   "source": [
    "data = prepare_dataset_for_algolia(df)"
   ]
  },
  {
   "cell_type": "code",
   "execution_count": 5,
   "id": "269b77d5-97aa-4d8d-9a46-37deffc32e3c",
   "metadata": {},
   "outputs": [],
   "source": [
    "client = Client()"
   ]
  },
  {
   "cell_type": "code",
   "execution_count": 6,
   "id": "055c0449-b680-46d9-8574-88422494ee99",
   "metadata": {},
   "outputs": [],
   "source": [
    "result = client.push(data)"
   ]
  },
  {
   "cell_type": "code",
   "execution_count": 15,
   "id": "57c7928e-be47-4ff6-9329-ab548084c9e7",
   "metadata": {},
   "outputs": [
    {
     "data": {
      "text/plain": [
       "16875385002"
      ]
     },
     "execution_count": 15,
     "metadata": {},
     "output_type": "execute_result"
    }
   ],
   "source": [
    "result[0]['taskID']"
   ]
  },
  {
   "cell_type": "code",
   "execution_count": null,
   "id": "521dbc7f-53a0-43de-aeeb-e8b29e4f47b8",
   "metadata": {},
   "outputs": [],
   "source": []
  }
 ],
 "metadata": {
  "kernelspec": {
   "display_name": "datasetter",
   "language": "python",
   "name": "datasetter"
  },
  "language_info": {
   "codemirror_mode": {
    "name": "ipython",
    "version": 3
   },
   "file_extension": ".py",
   "mimetype": "text/x-python",
   "name": "python",
   "nbconvert_exporter": "python",
   "pygments_lexer": "ipython3",
   "version": "3.9.5"
  }
 },
 "nbformat": 4,
 "nbformat_minor": 5
}
