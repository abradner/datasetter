{
 "cells": [
  {
   "cell_type": "code",
   "execution_count": 1,
   "id": "20004643-d6b9-4a4c-acf3-bcbd6c414056",
   "metadata": {},
   "outputs": [],
   "source": [
    "from app.algolia_benchmark import benchmark_searches, do_benchmark, generate_boundary_filters\n",
    "from app.algolia_client import Client\n",
    "from app.boundaries_functions import normalise_lat, normalise_lon\n",
    "from app.sydney_map import SYDNEY\n",
    "from random import sample"
   ]
  },
  {
   "cell_type": "code",
   "execution_count": 2,
   "id": "89fd9858-2027-4bb0-aab8-e4e9e500f2dd",
   "metadata": {},
   "outputs": [
    {
     "name": "stdout",
     "output_type": "stream",
     "text": [
      "(-33.736559,151.291138)\n"
     ]
    }
   ],
   "source": [
    "point = sample(SYDNEY, 1)[0]\n",
    "print(\"(%4f,%4f)\" % (point.lat, point.lon))"
   ]
  },
  {
   "cell_type": "code",
   "execution_count": 3,
   "id": "7220403e-49a5-4e0e-89cb-4f3d71fdab37",
   "metadata": {},
   "outputs": [
    {
     "data": {
      "text/plain": [
       "['min_lat<56.2634407281897',\n",
       " 'max_lat>56.2634407281897',\n",
       " 'min_lon<331.2911376953125',\n",
       " 'max_lon>331.2911376953125']"
      ]
     },
     "execution_count": 3,
     "metadata": {},
     "output_type": "execute_result"
    }
   ],
   "source": [
    "lat = normalise_lat(point.lat)\n",
    "lon = normalise_lon(point.lon)\n",
    "boundary_filters = generate_boundary_filters(lat, lon)\n",
    "boundary_filters"
   ]
  },
  {
   "cell_type": "code",
   "execution_count": 5,
   "id": "0e67e42c-4a43-4826-931a-45e35e4cd60c",
   "metadata": {},
   "outputs": [
    {
     "data": {
      "text/plain": [
       "1662"
      ]
     },
     "execution_count": 5,
     "metadata": {},
     "output_type": "execute_result"
    }
   ],
   "source": [
    "client = Client()\n",
    "result = client.query(numeric_filters=boundary_filters)\n",
    "result['nbHits']"
   ]
  }
 ],
 "metadata": {
  "kernelspec": {
   "display_name": "datasetter",
   "language": "python",
   "name": "datasetter"
  },
  "language_info": {
   "codemirror_mode": {
    "name": "ipython",
    "version": 3
   },
   "file_extension": ".py",
   "mimetype": "text/x-python",
   "name": "python",
   "nbconvert_exporter": "python",
   "pygments_lexer": "ipython3",
   "version": "3.9.5"
  }
 },
 "nbformat": 4,
 "nbformat_minor": 5
}
